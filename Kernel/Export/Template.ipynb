{
  "cells" : [],
  "metadata":{
    "kernelspec":{
      "display_name":"Python 3.8.5 ('base')",
      "language":"python",
      "name":"python3"
    },
    "language_info":{
      "name":"python",
      "version":"3.8.5"
    }
  },
  "nbformat": 4,
  "nbformat_minor": 0
}